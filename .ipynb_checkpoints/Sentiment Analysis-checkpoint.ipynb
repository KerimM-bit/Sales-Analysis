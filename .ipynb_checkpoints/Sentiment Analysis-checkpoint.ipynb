{
 "cells": [
  {
   "cell_type": "code",
   "execution_count": 2,
   "id": "c936d29d",
   "metadata": {},
   "outputs": [],
   "source": [
    "import pandas as pd\n",
    "import numpy as np\n",
    "import seaborn as sns\n",
    "\n",
    "import nltk\n",
    "\n",
    "%matplotlib inline"
   ]
  },
  {
   "cell_type": "code",
   "execution_count": 3,
   "id": "22dcb136",
   "metadata": {},
   "outputs": [
    {
     "data": {
      "text/html": [
       "<div>\n",
       "<style scoped>\n",
       "    .dataframe tbody tr th:only-of-type {\n",
       "        vertical-align: middle;\n",
       "    }\n",
       "\n",
       "    .dataframe tbody tr th {\n",
       "        vertical-align: top;\n",
       "    }\n",
       "\n",
       "    .dataframe thead th {\n",
       "        text-align: right;\n",
       "    }\n",
       "</style>\n",
       "<table border=\"1\" class=\"dataframe\">\n",
       "  <thead>\n",
       "    <tr style=\"text-align: right;\">\n",
       "      <th></th>\n",
       "      <th>Name;Genre;User Ratings;Number of Votes;Most watched country;Type;Reviews;Year;Number of episodes</th>\n",
       "    </tr>\n",
       "  </thead>\n",
       "  <tbody>\n",
       "    <tr>\n",
       "      <th>0</th>\n",
       "      <td>One Piece;Action/Adventure/Fantasy/Comedy/Dram...</td>\n",
       "    </tr>\n",
       "    <tr>\n",
       "      <th>1</th>\n",
       "      <td>Naruto Shippuden;Action/Adventure/Fantasy/Come...</td>\n",
       "    </tr>\n",
       "    <tr>\n",
       "      <th>2</th>\n",
       "      <td>Naruto;Action/Adventure/Fantasy/Comedy;84;9631...</td>\n",
       "    </tr>\n",
       "    <tr>\n",
       "      <th>3</th>\n",
       "      <td>Death Note;Crime/Drama/Fantasy/Mystery/Thrille...</td>\n",
       "    </tr>\n",
       "    <tr>\n",
       "      <th>4</th>\n",
       "      <td>Fullmetal Alchemist Broterhood;Action/Adventur...</td>\n",
       "    </tr>\n",
       "  </tbody>\n",
       "</table>\n",
       "</div>"
      ],
      "text/plain": [
       "  Name;Genre;User Ratings;Number of Votes;Most watched country;Type;Reviews;Year;Number of episodes\n",
       "0  One Piece;Action/Adventure/Fantasy/Comedy/Dram...                                               \n",
       "1  Naruto Shippuden;Action/Adventure/Fantasy/Come...                                               \n",
       "2  Naruto;Action/Adventure/Fantasy/Comedy;84;9631...                                               \n",
       "3  Death Note;Crime/Drama/Fantasy/Mystery/Thrille...                                               \n",
       "4  Fullmetal Alchemist Broterhood;Action/Adventur...                                               "
      ]
     },
     "execution_count": 3,
     "metadata": {},
     "output_type": "execute_result"
    }
   ],
   "source": [
    "data = pd.read_csv('E:\\\\Data Analyst Challange\\\\animeData.csv', \n",
    "                   sep='delimeter', engine='python')\n",
    "\n"
   ]
  },
  {
   "cell_type": "code",
   "execution_count": 4,
   "id": "9609ed17",
   "metadata": {},
   "outputs": [],
   "source": [
    "ds = data.copy()\n",
    "ds[['Name', 'Genre', 'User Rating', 'Number of IMDB user', 'Most watched country', 'Type', 'Reviews', 'Year',\n",
    "    'Number of episodes']] = ds[\n",
    "    'Name;Genre;User Ratings;Number of Votes;Most watched country;Type;Reviews;Year;Number of episodes'].str.split(\n",
    "    ';',expand=True)\n"
   ]
  },
  {
   "cell_type": "code",
   "execution_count": 5,
   "id": "5432fad4",
   "metadata": {},
   "outputs": [],
   "source": [
    "ds.drop('Name;Genre;User Ratings;Number of Votes;Most watched country;Type;Reviews;Year;Number of episodes', \n",
    "        axis=1, inplace=True)"
   ]
  },
  {
   "cell_type": "code",
   "execution_count": 6,
   "id": "4f18d0d4",
   "metadata": {},
   "outputs": [
    {
     "data": {
      "text/html": [
       "<div>\n",
       "<style scoped>\n",
       "    .dataframe tbody tr th:only-of-type {\n",
       "        vertical-align: middle;\n",
       "    }\n",
       "\n",
       "    .dataframe tbody tr th {\n",
       "        vertical-align: top;\n",
       "    }\n",
       "\n",
       "    .dataframe thead th {\n",
       "        text-align: right;\n",
       "    }\n",
       "</style>\n",
       "<table border=\"1\" class=\"dataframe\">\n",
       "  <thead>\n",
       "    <tr style=\"text-align: right;\">\n",
       "      <th></th>\n",
       "      <th>Name</th>\n",
       "      <th>Genre</th>\n",
       "      <th>User Rating</th>\n",
       "      <th>Number of IMDB user</th>\n",
       "      <th>Most watched country</th>\n",
       "      <th>Type</th>\n",
       "      <th>Reviews</th>\n",
       "      <th>Year</th>\n",
       "      <th>Number of episodes</th>\n",
       "    </tr>\n",
       "  </thead>\n",
       "  <tbody>\n",
       "    <tr>\n",
       "      <th>0</th>\n",
       "      <td>One Piece</td>\n",
       "      <td>Action/Adventure/Fantasy/Comedy/Drama</td>\n",
       "      <td>89</td>\n",
       "      <td>125540</td>\n",
       "      <td>France</td>\n",
       "      <td>Shounen</td>\n",
       "      <td>Words cannot describe it....      I don't know...</td>\n",
       "      <td>1999</td>\n",
       "      <td>1046</td>\n",
       "    </tr>\n",
       "    <tr>\n",
       "      <th>1</th>\n",
       "      <td>Naruto Shippuden</td>\n",
       "      <td>Action/Adventure/Fantasy/Comedy/Drama</td>\n",
       "      <td>87</td>\n",
       "      <td>119021</td>\n",
       "      <td>USA</td>\n",
       "      <td>Shounen</td>\n",
       "      <td>Its a great and amazing story to be seen. An o...</td>\n",
       "      <td>2007</td>\n",
       "      <td>502</td>\n",
       "    </tr>\n",
       "    <tr>\n",
       "      <th>2</th>\n",
       "      <td>Naruto</td>\n",
       "      <td>Action/Adventure/Fantasy/Comedy</td>\n",
       "      <td>84</td>\n",
       "      <td>96316</td>\n",
       "      <td>USA</td>\n",
       "      <td>Shounen</td>\n",
       "      <td>A friend of mine introduced me to the Naruto s...</td>\n",
       "      <td>2002</td>\n",
       "      <td>220</td>\n",
       "    </tr>\n",
       "    <tr>\n",
       "      <th>3</th>\n",
       "      <td>Death Note</td>\n",
       "      <td>Crime/Drama/Fantasy/Mystery/Thriller</td>\n",
       "      <td>90</td>\n",
       "      <td>308373</td>\n",
       "      <td>Bangladesh</td>\n",
       "      <td>Shounen</td>\n",
       "      <td>I will be short, the series is a gem: characte...</td>\n",
       "      <td>2006</td>\n",
       "      <td>37</td>\n",
       "    </tr>\n",
       "    <tr>\n",
       "      <th>4</th>\n",
       "      <td>Fullmetal Alchemist Broterhood</td>\n",
       "      <td>Action/Adventure/Fantasy/Comedy/Drama/Sci-Fi</td>\n",
       "      <td>91</td>\n",
       "      <td>167020</td>\n",
       "      <td>Australia</td>\n",
       "      <td>Shounen</td>\n",
       "      <td>Absolute perfection, at its finest.. I can't d...</td>\n",
       "      <td>2009</td>\n",
       "      <td>69</td>\n",
       "    </tr>\n",
       "  </tbody>\n",
       "</table>\n",
       "</div>"
      ],
      "text/plain": [
       "                             Name  \\\n",
       "0                       One Piece   \n",
       "1                Naruto Shippuden   \n",
       "2                          Naruto   \n",
       "3                      Death Note   \n",
       "4  Fullmetal Alchemist Broterhood   \n",
       "\n",
       "                                          Genre User Rating  \\\n",
       "0         Action/Adventure/Fantasy/Comedy/Drama          89   \n",
       "1         Action/Adventure/Fantasy/Comedy/Drama          87   \n",
       "2               Action/Adventure/Fantasy/Comedy          84   \n",
       "3          Crime/Drama/Fantasy/Mystery/Thriller          90   \n",
       "4  Action/Adventure/Fantasy/Comedy/Drama/Sci-Fi          91   \n",
       "\n",
       "  Number of IMDB user Most watched country     Type  \\\n",
       "0              125540               France  Shounen   \n",
       "1              119021                  USA  Shounen   \n",
       "2               96316                  USA  Shounen   \n",
       "3              308373           Bangladesh  Shounen   \n",
       "4              167020            Australia  Shounen   \n",
       "\n",
       "                                             Reviews  Year Number of episodes  \n",
       "0  Words cannot describe it....      I don't know...  1999               1046  \n",
       "1  Its a great and amazing story to be seen. An o...  2007                502  \n",
       "2  A friend of mine introduced me to the Naruto s...  2002                220  \n",
       "3  I will be short, the series is a gem: characte...  2006                 37  \n",
       "4  Absolute perfection, at its finest.. I can't d...  2009                 69  "
      ]
     },
     "execution_count": 6,
     "metadata": {},
     "output_type": "execute_result"
    }
   ],
   "source": [
    "ds.head()"
   ]
  },
  {
   "cell_type": "code",
   "execution_count": 7,
   "id": "20d25a1a",
   "metadata": {},
   "outputs": [],
   "source": [
    "ds['Number of IMDB user'] = ds['Number of IMDB user'].astype('int')\n",
    "ds['User Rating'] = ds['User Rating'].astype('int')\n",
    "ds['Number of episodes'] = ds['Number of episodes'].astype('int')"
   ]
  },
  {
   "cell_type": "code",
   "execution_count": 8,
   "id": "7ed101b8",
   "metadata": {},
   "outputs": [
    {
     "data": {
      "text/plain": [
       "Text(0.5, 0, 'Review IMDB Scores of Users')"
      ]
     },
     "execution_count": 8,
     "metadata": {},
     "output_type": "execute_result"
    },
    {
     "data": {
      "image/png": "[encoded data removed]",
      "text/plain": [
       "<Figure size 720x1080 with 1 Axes>"
      ]
     },
     "metadata": {
      "needs_background": "light"
     },
     "output_type": "display_data"
    }
   ],
   "source": [
    "ax = ds['User Rating'].value_counts().sort_index() \\\n",
    "        .plot(kind='bar',\n",
    "             title='IMDB User Ratings of shows',\n",
    "             figsize=(10,15))\n",
    "ax.set_xlabel('Review IMDB Scores of Users')"
   ]
  },
  {
   "cell_type": "code",
   "execution_count": null,
   "id": "6e98591a",
   "metadata": {},
   "outputs": [],
   "source": []
  }
 ],
 "metadata": {
  "kernelspec": {
   "display_name": "Python (Analysis)",
   "language": "python",
   "name": "analysis"
  },
  "language_info": {
   "codemirror_mode": {
    "name": "ipython",
    "version": 3
   },
   "file_extension": ".py",
   "mimetype": "text/x-python",
   "name": "python",
   "nbconvert_exporter": "python",
   "pygments_lexer": "ipython3",
   "version": "3.8.10"
  }
 },
 "nbformat": 4,
 "nbformat_minor": 5
}
